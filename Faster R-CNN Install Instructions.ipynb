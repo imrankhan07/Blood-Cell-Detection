{
 "cells": [
  {
   "cell_type": "markdown",
   "metadata": {},
   "source": [
    "# Project: Blood Cell Detection\n",
    "\n",
    "## Description:\n",
    "\n",
    "- The task is to detect all the Red Blood Cells (RBCs), White Blood Cells (WBCs), and Platelets in each image taken via microscopic image readings. \n",
    "\n",
    "- The main application of this dataset is that the density of RBCs, WBCs and Platelets in our blood stream provides a lot of information about the immune system and hemoglobin. This can help us potentially identify whether a person is healthy or not, and if any discrepancy is found in their blood, actions can be taken quickly to diagnose that.<p/>"
   ]
  },
  {
   "cell_type": "markdown",
   "metadata": {},
   "source": [
    "## You can download the dataset from here: \n",
    "\n",
    "- <span class=\"mark\">https://github.com/Shenggan/BCCD_Dataset</span>\n",
    "\n",
    "- You need to convert the bounding boxes from the given .xml format to a .csv format\n",
    "- Use the file xml_to_csv.py attached into the resources of this lesson.\n",
    "- Create your train_images, test_images and Annotations folder."
   ]
  },
  {
   "cell_type": "markdown",
   "metadata": {},
   "source": [
    "## Requirements:\n",
    "\n",
    "- pandas\n",
    "- matplotlib\n",
    "- tensorflow 1.10 GPU or 1.8 GPU\n",
    "- keras 2.2.2 or keras 2.0.3\n",
    "- numpy\n",
    "- opencv-python\n",
    "- sklearn\n",
    "- h5py"
   ]
  },
  {
   "cell_type": "markdown",
   "metadata": {},
   "source": [
    "# Implementing Faster R-CNN\n",
    "\n",
    "## Cloning the repo:\n",
    "\n",
    "- git clone <span class=\"mark\">https://github.com/kbardool/keras-frcnn.git</span>\n",
    "\n",
    "- Move the train_images, test_images folder, Annotations as well as the xml_to_csv.py file into the cloned repository. \n",
    "- Additionally create the folder: results_imgs"
   ]
  },
  {
   "cell_type": "markdown",
   "metadata": {},
   "source": [
    "## Format of the data:\n",
    "\n",
    "-The format of the input should be: \n",
    "\n",
    "- filepath,x1,y1,x2,y2,class_name\n",
    "\n",
    "- filepath is the path of the training image\n",
    "- x1 is the xmin coordinate for bounding box\n",
    "- y1 is the ymin coordinate for bounding box\n",
    "- x2 is the xmax coordinate for bounding box\n",
    "- y2 is the ymax coordinate for bounding box\n",
    "- class_name is the name of the class in that bounding box"
   ]
  },
  {
   "cell_type": "markdown",
   "metadata": {},
   "source": [
    "## Convert .csv to .txt\n",
    "- We need to convert the .csv format into a .txt file which will have the same format as described above. \n",
    "- Use the file Data_Explaration.ipynb → Convert .csv to .txt cell\n",
    "- The output file is: annotate.txt"
   ]
  },
  {
   "cell_type": "markdown",
   "metadata": {},
   "source": [
    "## Train the model:\n",
    "\n",
    "- python train_frcnn.py -o simple -p annotate.txt"
   ]
  },
  {
   "cell_type": "markdown",
   "metadata": {},
   "source": [
    "## Train the model with GPU:\n",
    "\n",
    "If you are running in gpu, edit the train_frcc.py adding the following instructions at the beginning: </br>\n",
    "\n",
    "+ import tensorflow as tf\n",
    "\n",
    "+ from keras.backend.tensorflow_backend import set_session\n",
    "\n",
    "+ tf_config = tf.ConfigProto()\n",
    "\n",
    "+ tf_config.gpu_options.per_process_gpu_memory_fraction = 0.8\n",
    "\n",
    "+ set_session(tf.Session(config=tf_config))\n",
    "\n",
    "You can also set the number of epochs and the length for each epoch."
   ]
  },
  {
   "cell_type": "markdown",
   "metadata": {},
   "source": [
    "## Transfer learning using weights:\n",
    "\n",
    "- You can download the weights here:\n",
    "\n",
    "- <span class=\"mark\">https://drive.google.com/file/d/1OmCKlUEYmTjg_jaaN-IQm81eHROU-Gyl/view</span>\n",
    "\n",
    "- These weights will be used when we make predictions on the test set. "
   ]
  },
  {
   "cell_type": "markdown",
   "metadata": {},
   "source": [
    "## Testing the model:\n",
    "\n",
    "- In the test_frcnn.py file to save the images you will need to do the following:\n",
    "- 1. Remove the comment from the last line of this file:\n",
    "- ->  cv2.imwrite(‘./results_imgs/{}.png’.format(idx),img)\n",
    "- 2. Add comments on the second last and third last line of this file:\n",
    "- -># cv2.imshow(‘img’, img)\n",
    "- -># cv2.waitKey(0)"
   ]
  },
  {
   "cell_type": "markdown",
   "metadata": {},
   "source": [
    "## Test the model on images:\n",
    "- python test_frcnn.py -p test_images\n",
    "- The images with the detected objects will be saved in the \"results_imgs\" folder "
   ]
  },
  {
   "cell_type": "markdown",
   "metadata": {},
   "source": [
    "# Download the Resources-faster-rcnn.zip file"
   ]
  },
  {
   "cell_type": "code",
   "execution_count": null,
   "metadata": {},
   "outputs": [],
   "source": []
  }
 ],
 "metadata": {
  "kernelspec": {
   "display_name": "tf1.11_gpu",
   "language": "python",
   "name": "tf111_gpu"
  },
  "language_info": {
   "codemirror_mode": {
    "name": "ipython",
    "version": 3
   },
   "file_extension": ".py",
   "mimetype": "text/x-python",
   "name": "python",
   "nbconvert_exporter": "python",
   "pygments_lexer": "ipython3",
   "version": "3.6.7"
  },
  "toc": {
   "base_numbering": 1,
   "nav_menu": {},
   "number_sections": true,
   "sideBar": true,
   "skip_h1_title": false,
   "title_cell": "Table of Contents",
   "title_sidebar": "Contents",
   "toc_cell": false,
   "toc_position": {},
   "toc_section_display": true,
   "toc_window_display": true
  },
  "varInspector": {
   "cols": {
    "lenName": 16,
    "lenType": 16,
    "lenVar": 40
   },
   "kernels_config": {
    "python": {
     "delete_cmd_postfix": "",
     "delete_cmd_prefix": "del ",
     "library": "var_list.py",
     "varRefreshCmd": "print(var_dic_list())"
    },
    "r": {
     "delete_cmd_postfix": ") ",
     "delete_cmd_prefix": "rm(",
     "library": "var_list.r",
     "varRefreshCmd": "cat(var_dic_list()) "
    }
   },
   "types_to_exclude": [
    "module",
    "function",
    "builtin_function_or_method",
    "instance",
    "_Feature"
   ],
   "window_display": false
  }
 },
 "nbformat": 4,
 "nbformat_minor": 2
}
